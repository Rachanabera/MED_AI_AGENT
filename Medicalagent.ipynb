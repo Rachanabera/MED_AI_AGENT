{
  "nbformat": 4,
  "nbformat_minor": 0,
  "metadata": {
    "colab": {
      "provenance": [],
      "include_colab_link": true
    },
    "kernelspec": {
      "name": "python3",
      "display_name": "Python 3"
    },
    "language_info": {
      "name": "python"
    }
  },
  "cells": [
    {
      "cell_type": "markdown",
      "metadata": {
        "id": "view-in-github",
        "colab_type": "text"
      },
      "source": [
        "<a href=\"https://colab.research.google.com/github/Rachanabera/MED_AI_AGENT/blob/main/Medicalagent.ipynb\" target=\"_parent\"><img src=\"https://colab.research.google.com/assets/colab-badge.svg\" alt=\"Open In Colab\"/></a>"
      ]
    },
    {
      "cell_type": "markdown",
      "source": [
        "# STEP 0: Install dependencies"
      ],
      "metadata": {
        "id": "K3yWWtQ8cC4i"
      }
    },
    {
      "cell_type": "markdown",
      "source": [],
      "metadata": {
        "id": "SUSytk_hywex"
      }
    },
    {
      "cell_type": "code",
      "source": [
        "!pip install -qU google-generativeai==0.8.5 google-ai-generativelanguage==0.6.15 \\\n",
        "langgraph langchain langchain-google-genai openai"
      ],
      "metadata": {
        "id": "wvDYXnV1w3iY"
      },
      "execution_count": 41,
      "outputs": []
    },
    {
      "cell_type": "markdown",
      "source": [
        "# STEP 1: Imports and secure API key input"
      ],
      "metadata": {
        "id": "XvoFPl11cFhj"
      }
    },
    {
      "cell_type": "code",
      "source": [
        "import os\n",
        "import getpass\n",
        "from langgraph.graph import StateGraph, END\n",
        "from langchain_google_genai import ChatGoogleGenerativeAI\n",
        "from langchain_core.messages import HumanMessage"
      ],
      "metadata": {
        "id": "dk1ODyV53WfI"
      },
      "execution_count": 42,
      "outputs": []
    },
    {
      "cell_type": "markdown",
      "source": [
        "\n",
        "# Secure Gemini API Key input"
      ],
      "metadata": {
        "id": "W28u20SxcIiH"
      }
    },
    {
      "cell_type": "code",
      "source": [
        "os.environ['GOOGLE_API_KEY'] = getpass.getpass(\"Enter the Gemini API Key\")"
      ],
      "metadata": {
        "colab": {
          "base_uri": "https://localhost:8080/"
        },
        "id": "RXu7erOl7u5r",
        "outputId": "e61f9cce-8eaa-4a1f-ca36-871f47fe31db"
      },
      "execution_count": 43,
      "outputs": [
        {
          "name": "stdout",
          "output_type": "stream",
          "text": [
            "Enter the Gemini API Key··········\n"
          ]
        }
      ]
    },
    {
      "cell_type": "markdown",
      "source": [
        "# STEP 2: Initialize Gemini 1.5 Flash"
      ],
      "metadata": {
        "id": "eusINPuVcLXp"
      }
    },
    {
      "cell_type": "code",
      "source": [
        "llm = ChatGoogleGenerativeAI(model = \"models/gemini-1.5-flash-latest\",temperature = 0.2)"
      ],
      "metadata": {
        "id": "-lbx_jn_8dKd"
      },
      "execution_count": 44,
      "outputs": []
    },
    {
      "cell_type": "markdown",
      "source": [
        "# STEP 3: Node to ask user for symptom"
      ],
      "metadata": {
        "id": "o07zbkLWcOVW"
      }
    },
    {
      "cell_type": "code",
      "source": [
        "def get_symptom(state:dict)-> dict:\n",
        "  symptom = input(\"Welcome to xyz hospital ! Enter  your symptom \")\n",
        "  state[\"symptom\"] = symptom"
      ],
      "metadata": {
        "id": "Uw4m1e7z9v2z"
      },
      "execution_count": 45,
      "outputs": []
    },
    {
      "cell_type": "markdown",
      "source": [
        "# STEP 4: Node to classify the symptom"
      ],
      "metadata": {
        "id": "0KIzyYPVcRVm"
      }
    },
    {
      "cell_type": "code",
      "source": [
        "def classify_symptom(state:dict)->dict:\n",
        "  prompt = (\n",
        "      \"You are a smart helpful medcal agent , Classify the following symptoms below in one if the categories \\n \"\n",
        "      \"-General \\n Emergency \\n -Mental Health \\n\"\n",
        "      \"Respond only in one word  - General , Emergency and Mental Health \\n\"\n",
        "      f\"Symtom : {state['symptom']} \\n\"\n",
        "      \"# Example  Input : I have fever , Output : General\"\n",
        "  )\n",
        "  response = llm.invoke([HumanMessage(content=prompt)])\n",
        "  category = response.content.strip()\n",
        "  print(f\"LLM classifues the symptoms as{category}\")\n",
        "  state['category']=category\n",
        "  return state"
      ],
      "metadata": {
        "id": "P1yRK2kW-nCD"
      },
      "execution_count": 51,
      "outputs": []
    },
    {
      "cell_type": "markdown",
      "source": [
        "# STEP 5: Router logic to route to the correct node\n"
      ],
      "metadata": {
        "id": "kESmxbnicWpS"
      }
    },
    {
      "cell_type": "code",
      "source": [
        "def symptom_router(state:dict)->dict:\n",
        "  cat = state[\"category\"].lower()\n",
        "  if \"general\" in cat :\n",
        "    return \"general\"\n",
        "  elif \"emergency\" in cat:\n",
        "    return \"emergency\"\n",
        "  elif \"mental health\" in cat :\n",
        "    return \"mental health\"\n",
        "  else:\n",
        "    return \"general\""
      ],
      "metadata": {
        "id": "9xIeZO9sBjm3"
      },
      "execution_count": 52,
      "outputs": []
    },
    {
      "cell_type": "markdown",
      "source": [
        "# STEP 6: Category-specific response nodes\n"
      ],
      "metadata": {
        "id": "cZuR4VGscake"
      }
    },
    {
      "cell_type": "code",
      "source": [
        "def general_node(state:dict) -> dict:\n",
        "  state[\"answer\"]=f\"'{state['symptom']}' : seems general :directing you to the general ward for consulting a doctor \"\n",
        "  return state\n",
        "\n",
        "def emergency_node(state:dict) -> dict:\n",
        "  state[\"answer\"]=f\"'{state['symptom']}' : It is a Medical Emergency : Immediate action needed  \"\n",
        "  return state\n",
        "\n",
        "def mental_health_node(state:dict) -> dict:\n",
        "  state[\"answer\"]=f\"'{state['symptom']}' : seems like a mental health issue :talk to the counsellor  \"\n",
        "  return state"
      ],
      "metadata": {
        "id": "dkHIAyI6CpH1"
      },
      "execution_count": 53,
      "outputs": []
    },
    {
      "cell_type": "markdown",
      "source": [
        "# STEP 7: Build LangGraph\n"
      ],
      "metadata": {
        "id": "I1ek0SwzcehS"
      }
    },
    {
      "cell_type": "code",
      "source": [
        "builder = StateGraph(dict)\n",
        "\n",
        "builder.set_entry_point(\"get_symptom\")\n",
        "builder.add_node(\"get_symptom\", get_symptom)\n",
        "builder.add_node(\"classify\", classify_symptom)\n",
        "builder.add_node(\"general\", general_node)\n",
        "builder.add_node(\"emergency\", emergency_node)\n",
        "builder.add_node(\"mental_health\", mental_health_node)\n",
        "\n",
        "builder.add_edge(\"get_symptom\",\"classify\")\n",
        "builder.add_conditional_edges(\"classify\",symptom_router,{\n",
        "    \"general\":\"general\",\n",
        "    \"emergency\":\"emergency\",\n",
        "    \"mental_health\":\"mental_health\"\n",
        "})\n",
        "\n",
        "builder.add_edge(\"general\",END)\n",
        "\n",
        "builder.add_edge(\"emergency\",END)\n",
        "\n",
        "builder.add_edge(\"mental_health\",END)"
      ],
      "metadata": {
        "colab": {
          "base_uri": "https://localhost:8080/"
        },
        "id": "9cJ2HyxDEJKu",
        "outputId": "93759fdb-0a90-469b-d692-5e4fd24f1064"
      },
      "execution_count": 54,
      "outputs": [
        {
          "output_type": "execute_result",
          "data": {
            "text/plain": [
              "<langgraph.graph.state.StateGraph at 0x7fd89daba550>"
            ]
          },
          "metadata": {},
          "execution_count": 54
        }
      ]
    },
    {
      "cell_type": "markdown",
      "source": [
        "# STEP 8: Compile and invoke the graph\n"
      ],
      "metadata": {
        "id": "GbAgCeZYci5k"
      }
    },
    {
      "cell_type": "markdown",
      "source": [],
      "metadata": {
        "id": "1apbaTYCEs1Y"
      }
    },
    {
      "cell_type": "code",
      "source": [
        "graph =  builder.compile()\n",
        "final_state = graph.invoke({})\n",
        "print(\"final output\\n\")\n",
        "print(final_state[\"answer\"])"
      ],
      "metadata": {
        "colab": {
          "base_uri": "https://localhost:8080/"
        },
        "id": "aVvBom1iGJnP",
        "outputId": "c1566e7f-c90b-46b7-c8ed-dd57be515d7b"
      },
      "execution_count": 55,
      "outputs": [
        {
          "output_type": "stream",
          "name": "stdout",
          "text": [
            "Welcome to xyz hospital ! Enter  your symptom cancer\n",
            "LLM classifues the symptoms asEmergency\n",
            "final output\n",
            "\n",
            "'cancer' : It is a Medical Emergency : Immediate action needed  \n"
          ]
        }
      ]
    }
  ]
}